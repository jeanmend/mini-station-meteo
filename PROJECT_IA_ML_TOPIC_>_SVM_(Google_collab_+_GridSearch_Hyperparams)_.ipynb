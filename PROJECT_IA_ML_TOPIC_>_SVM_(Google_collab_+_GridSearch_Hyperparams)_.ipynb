{
  "cells": [
    {
      "cell_type": "markdown",
      "metadata": {
        "id": "view-in-github",
        "colab_type": "text"
      },
      "source": [
        "<a href=\"https://colab.research.google.com/github/serignefallou-18/mini-station-meteo/blob/main/PROJECT_IA_ML_TOPIC_%3E_SVM_(Google_collab_%2B_GridSearch_Hyperparams)_.ipynb\" target=\"_parent\"><img src=\"https://colab.research.google.com/assets/colab-badge.svg\" alt=\"Open In Colab\"/></a>"
      ]
    },
    {
      "cell_type": "code",
      "execution_count": null,
      "metadata": {
        "id": "kY8BiRL0DtZW"
      },
      "outputs": [],
      "source": [
        "import pandas as pd\n",
        "from sklearn.preprocessing import LabelEncoder\n",
        "from sklearn.metrics import accuracy_score\n",
        "from sklearn.svm import SVC\n",
        "from sklearn.model_selection import train_test_split"
      ]
    },
    {
      "cell_type": "code",
      "execution_count": null,
      "metadata": {
        "id": "ycUASL4tDtZZ"
      },
      "outputs": [],
      "source": [
        "# charger les données\n",
        "train = pd.read_csv('Train.csv')\n",
        "test = pd.read_csv('Test.csv')\n",
        "ss = pd.read_csv('SubmissionFile.csv')\n",
        "variables = pd.read_csv('VariableDefinitions.csv')\n",
        "variables"
      ]
    },
    {
      "cell_type": "code",
      "execution_count": null,
      "metadata": {
        "id": "4ur6xyvHDtZa"
      },
      "outputs": [],
      "source": [
        "\n",
        "features = ['job_type', 'cellphone_access', 'relationship_with_head', 'education_level', \n",
        "    'household_size', 'location_type', 'country']\n",
        "features"
      ]
    },
    {
      "cell_type": "code",
      "execution_count": null,
      "metadata": {
        "id": "b4PNSoLUDtZb"
      },
      "outputs": [],
      "source": [
        "data = pd.read_csv('Train.csv')\n",
        "le = LabelEncoder()\n",
        "if 'bank_account' in data:\n",
        "    # pour le cas ou les données fournis sont les données d'entrainement\n",
        "    data['bank_account'] = le.fit_transform(data['bank_account'])\n",
        "data['job_type'] = le.fit_transform(data['job_type'])\n",
        "data['cellphone_access'] = le.fit_transform(data['cellphone_access'])\n",
        "data['gender_of_respondent'] = le.fit_transform(data['gender_of_respondent'])\n",
        "data['relationship_with_head'] = le.fit_transform(data['relationship_with_head'])\n",
        "data['education_level'] = le.fit_transform(data['education_level'])\n",
        "data['marital_status'] = le.fit_transform(data['marital_status'])\n",
        "data['country'] = le.fit_transform(data['country'])\n",
        "data['location_type'] = le.fit_transform(data['location_type'])"
      ]
    },
    {
      "cell_type": "code",
      "execution_count": null,
      "metadata": {
        "id": "XJnQhZ2KDtZc"
      },
      "outputs": [],
      "source": [
        "dataset = data[features]\n",
        "\n",
        "train['bank_account'] = le.fit_transform(train['bank_account'])\n",
        "\n",
        "target = train['bank_account']\n",
        "target"
      ]
    },
    {
      "cell_type": "code",
      "execution_count": null,
      "metadata": {
        "id": "TG6nAVwaDtZc"
      },
      "outputs": [],
      "source": [
        "X_train, x_test, Y_train, y_test = train_test_split(dataset, target, test_size=0.3)\n",
        "svc = SVC(gamma='auto', kernel='rbf', C=5)\n",
        "svc.fit(X_train, Y_train)"
      ]
    },
    {
      "cell_type": "code",
      "execution_count": null,
      "metadata": {
        "id": "MW0NJcTIDtZe"
      },
      "outputs": [],
      "source": [
        "pred = svc.predict(x_test)\n",
        "print(\"SVM: Accuracy...\", accuracy_score(y_test, pred))\n",
        "print(\"SVM: Mean Accuracy Error : \", 1 - accuracy_score(y_test, pred))\n"
      ]
    },
    {
      "cell_type": "code",
      "execution_count": null,
      "metadata": {
        "id": "05Dv2eQFDtZf"
      },
      "outputs": [],
      "source": [
        "pred"
      ]
    },
    {
      "cell_type": "code",
      "execution_count": null,
      "metadata": {
        "id": "kdMcQhpvDtZg"
      },
      "outputs": [],
      "source": [
        "test = pd.read_csv('Test.csv')\n",
        "test['uniqueid'] = test['uniqueid'] + ' x ' + test['country']\n",
        "test['uniqueid']"
      ]
    },
    {
      "cell_type": "code",
      "source": [
        "submission = pd.DataFrame(columns=['uniqueid', 'bank_account'], data=test)\n",
        "\n",
        "pred = pd.DataFrame(data=pred)\n",
        "pred\n",
        "submission['bank_account'] = pred\n",
        "\n",
        "submission.to_csv('my_final_SubmissionFile.csv', index=False)"
      ],
      "metadata": {
        "id": "9IXrDhGqFtI9"
      },
      "execution_count": null,
      "outputs": []
    },
    {
      "cell_type": "code",
      "execution_count": null,
      "metadata": {
        "id": "bZLfKxA0DtZi"
      },
      "outputs": [],
      "source": [
        "# Importation du modele GridSearchCV forunis par scikit-learn\n",
        "from sklearn.model_selection import GridSearchCV\n",
        "\n",
        "param_grid = {\n",
        "        'C': [1, 5, 10],\n",
        "        'gamma': [0.01, 0.1, 1],\n",
        "        'kernel': ['rbf'],\n",
        "        }\n",
        "my_svc_model = GridSearchCV( svc, param_grid, refit = True, verbose = 3)\n",
        "my_svc_model.fit(X_train, Y_train)\n",
        "print(my_svc_model.best_params_)\n",
        "print(my_svc_model.best_estimator_)"
      ]
    },
    {
      "cell_type": "markdown",
      "source": [
        "# utilisations des bests **param** "
      ],
      "metadata": {
        "id": "ubq3lwdE9QVC"
      }
    },
    {
      "cell_type": "code",
      "source": [
        "svc = SVC(gamma=0.1, kernel='rbf', C=10)\n",
        "svc.fit(X_train, Y_train)\n",
        "pred = svc.predict(x_test)\n",
        "print(\"SVM: Accuracy...\", accuracy_score(y_test, pred))\n",
        "print(\"SVM: Mean Accuracy Error : \", 1 - accuracy_score(y_test, pred))\n",
        "pred = svc.predict(x_test)\n",
        "print(\"SVM: Accuracy...\", accuracy_score(y_test, pred))\n",
        "print(\"SVM: Mean Accuracy Error : \", 1 - accuracy_score(y_test, pred))\n"
      ],
      "metadata": {
        "id": "P_XjpoPm9OC0"
      },
      "execution_count": null,
      "outputs": []
    },
    {
      "cell_type": "markdown",
      "metadata": {
        "id": "gcaFmoJ8DtZk"
      },
      "source": [
        "# Decision Tree et KNN"
      ]
    },
    {
      "cell_type": "markdown",
      "metadata": {
        "id": "at-aQMkhDtZi"
      },
      "source": [
        "## Autres modèles classiques"
      ]
    },
    {
      "cell_type": "code",
      "execution_count": null,
      "metadata": {
        "id": "8b5TL1AXDtZl"
      },
      "outputs": [],
      "source": [
        "from sklearn.tree import DecisionTreeClassifier\n",
        "\n",
        "dce = DecisionTreeClassifier()\n",
        "dce.fit(X_train, Y_train)\n",
        "prediction = dce.predict(x_test)\n",
        "print (\"Decision tree accuracy score : \", accuracy_score(y_test, prediction))\n",
        "print (\"Decision tree Mean Accuracy Error score : \",1- accuracy_score(y_test, prediction))\n",
        "\n"
      ]
    },
    {
      "cell_type": "code",
      "source": [
        "from sklearn.neighbors import KNeighborsClassifier\n",
        "\n",
        "neigh = KNeighborsClassifier(n_neighbors=3)\n",
        "neigh.fit(X_train, Y_train)\n",
        " \n",
        "pred = neigh.predict(x_test)\n",
        "\n",
        "print (\"KNeighbors accuracy score : \", accuracy_score(y_test, pred))\n",
        "print (\"KNeighbors Mean Accuracy Error score : \", 1- accuracy_score(y_test, pred))"
      ],
      "metadata": {
        "id": "9rp60LcR-nbS"
      },
      "execution_count": null,
      "outputs": []
    },
    {
      "cell_type": "code",
      "source": [],
      "metadata": {
        "id": "pqgDBKEI-uNk"
      },
      "execution_count": null,
      "outputs": []
    }
  ],
  "metadata": {
    "kernelspec": {
      "display_name": "Python 3",
      "language": "python",
      "name": "python3"
    },
    "language_info": {
      "codemirror_mode": {
        "name": "ipython",
        "version": 3
      },
      "file_extension": ".py",
      "mimetype": "text/x-python",
      "name": "python",
      "nbconvert_exporter": "python",
      "pygments_lexer": "ipython3",
      "version": "3.10.0"
    },
    "vscode": {
      "interpreter": {
        "hash": "369f2c481f4da34e4445cda3fffd2e751bd1c4d706f27375911949ba6bb62e1c"
      }
    },
    "colab": {
      "private_outputs": true,
      "provenance": [],
      "include_colab_link": true
    },
    "accelerator": "GPU",
    "gpuClass": "standard"
  },
  "nbformat": 4,
  "nbformat_minor": 0
}